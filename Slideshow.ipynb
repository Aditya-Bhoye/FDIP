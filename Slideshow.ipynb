{
 "cells": [
  {
   "cell_type": "code",
   "execution_count": null,
   "id": "49080374-5b87-4fc1-8c63-6e84aa772a03",
   "metadata": {},
   "outputs": [],
   "source": [
    "import cv2\n",
    "import os\n",
    "import time"
   ]
  },
  {
   "cell_type": "code",
   "execution_count": null,
   "id": "f620783f-be5d-43ea-80d1-9ce7ae3cc7d5",
   "metadata": {},
   "outputs": [],
   "source": [
    "folder_path = 'Slideshow' \n",
    "image_files = [f for f in os.listdir(folder_path) if f.lower().endswith(('.png', '.jpg', '.jpeg'))]\n",
    "image_files.sort()  "
   ]
  },
  {
   "cell_type": "code",
   "execution_count": null,
   "id": "46a0225d-26c1-4aac-8bb5-c620603e78cb",
   "metadata": {},
   "outputs": [],
   "source": [
    "images = [cv2.imread(os.path.join(folder_path, file)) for file in image_files]"
   ]
  },
  {
   "cell_type": "code",
   "execution_count": null,
   "id": "e4606fee-792c-4363-994b-6a4e7562bbd4",
   "metadata": {},
   "outputs": [],
   "source": [
    "height, width = 3840, 2160  # You can change this\n",
    "images = [cv2.resize(img, (width, height)) for img in images]"
   ]
  },
  {
   "cell_type": "code",
   "execution_count": null,
   "id": "bc09bd8c-e8f5-470b-b9e7-d2ff792ed716",
   "metadata": {},
   "outputs": [],
   "source": [
    "cv2.namedWindow('Slideshow', cv2.WINDOW_NORMAL)\n",
    "while True:\n",
    "    for i in range(len(images)):\n",
    "        img1 = images[i]\n",
    "        img2 = images[(i + 1) % len(images)]\n",
    "        for alpha in range(0, 11):\n",
    "            beta = 1.0 - alpha / 10.0\n",
    "            blended = cv2.addWeighted(img1, beta, img2, alpha / 10.0, 0)\n",
    "            cv2.imshow('Slideshow', blended)\n",
    "            if cv2.waitKey(100) & 0xFF == 27:\n",
    "                cv2.destroyAllWindows()\n",
    "                exit()\n",
    "\n",
    "        time.sleep(5) "
   ]
  },
  {
   "cell_type": "code",
   "execution_count": null,
   "id": "c904f492-81a8-4981-8174-51d1696be55f",
   "metadata": {},
   "outputs": [],
   "source": []
  }
 ],
 "metadata": {
  "kernelspec": {
   "display_name": "Python 3 (ipykernel)",
   "language": "python",
   "name": "python3"
  },
  "language_info": {
   "codemirror_mode": {
    "name": "ipython",
    "version": 3
   },
   "file_extension": ".py",
   "mimetype": "text/x-python",
   "name": "python",
   "nbconvert_exporter": "python",
   "pygments_lexer": "ipython3",
   "version": "3.13.5"
  }
 },
 "nbformat": 4,
 "nbformat_minor": 5
}

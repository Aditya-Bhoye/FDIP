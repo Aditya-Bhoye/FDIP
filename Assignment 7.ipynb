{
 "cells": [
  {
   "cell_type": "code",
   "execution_count": 2,
   "id": "5785157f-10bc-433c-96da-0c56f047269e",
   "metadata": {},
   "outputs": [],
   "source": [
    "import cv2\n",
    "import glob, os\n",
    "import numpy as np\n",
    "import matplotlib.pyplot as plt\n",
    "from collections import Counter\n",
    "import heapq"
   ]
  },
  {
   "cell_type": "code",
   "execution_count": 3,
   "id": "27a6332c-7147-4a3f-80ac-2acf9e7b71bb",
   "metadata": {},
   "outputs": [
    {
     "name": "stdout",
     "output_type": "stream",
     "text": [
      "Loaded 202 images from dataset.\n"
     ]
    }
   ],
   "source": [
    "folder = r\"C:\\Users\\adibh\\Downloads\\archive (4)\\Data\\human\"\n",
    "image_paths = glob.glob(os.path.join(folder, \"*.jpg\"))\n",
    "images = [cv2.resize(cv2.imread(p), (256, 256)) for p in image_paths]\n",
    "print(\"Loaded\", len(images), \"images from dataset.\")"
   ]
  },
  {
   "cell_type": "code",
   "execution_count": 5,
   "id": "b6b994a8-a289-4d7c-b24b-e9d30e173a65",
   "metadata": {},
   "outputs": [],
   "source": [
    "QY = np.array([\n",
    "    [16,11,10,16,24,40,51,61],\n",
    "    [12,12,14,19,26,58,60,55],\n",
    "    [14,13,16,24,40,57,69,56],\n",
    "    [14,17,22,29,51,87,80,62],\n",
    "    [18,22,37,56,68,109,103,77],\n",
    "    [24,35,55,64,81,104,113,92],\n",
    "    [49,64,78,87,103,121,120,101],\n",
    "    [72,92,95,98,112,100,103,99]\n",
    "])\n",
    "QC = np.array([\n",
    "    [17,18,24,47,99,99,99,99],\n",
    "    [18,21,26,66,99,99,99,99],\n",
    "    [24,26,56,99,99,99,99,99],\n",
    "    [47,66,99,99,99,99,99,99],\n",
    "    [99,99,99,99,99,99,99,99],\n",
    "    [99,99,99,99,99,99,99,99],\n",
    "    [99,99,99,99,99,99,99,99],\n",
    "    [99,99,99,99,99,99,99,99]\n",
    "])\n",
    "def dct_compress_ycbcr(img, q_scale=1):\n",
    "    ycbcr = cv2.cvtColor(img, cv2.COLOR_BGR2YCrCb)\n",
    "    Y, Cb, Cr = cv2.split(ycbcr)\n",
    "    Cb = cv2.resize(Cb, (128, 128), interpolation=cv2.INTER_AREA)\n",
    "    Cr = cv2.resize(Cr, (128, 128), interpolation=cv2.INTER_AREA)\n",
    "    total_nonzero = 0\n",
    "    total_coeff = 0\n",
    "    def compress_channel(channel, Q):\n",
    "        nonlocal total_nonzero, total_coeff\n",
    "        h, w = channel.shape\n",
    "        out = np.zeros((h, w), dtype=np.float32)\n",
    "        for i in range(0, h, 8):\n",
    "            for j in range(0, w, 8):\n",
    "                block = channel[i:i+8, j:j+8].astype(float) - 128\n",
    "                dct_block = cv2.dct(block)\n",
    "                q_block = np.round(dct_block / (Q * q_scale))\n",
    "                total_nonzero += np.count_nonzero(q_block)\n",
    "                total_coeff += q_block.size\n",
    "                dct_block_recon = q_block * (Q * q_scale)\n",
    "                out[i:i+8, j:j+8] = cv2.idct(dct_block_recon) + 128\n",
    "        return np.clip(out, 0, 255).astype(np.uint8)\n",
    "    Yc = compress_channel(Y, QY)\n",
    "    Cbc = compress_channel(Cb, QC)\n",
    "    Crc = compress_channel(Cr, QC)\n",
    "    Cbc = cv2.resize(Cbc, (256, 256), interpolation=cv2.INTER_LINEAR)\n",
    "    Crc = cv2.resize(Crc, (256, 256), interpolation=cv2.INTER_LINEAR)\n",
    "    compressed = cv2.merge([Yc, Crc, Cbc])\n",
    "    compressed_bgr = cv2.cvtColor(compressed, cv2.COLOR_YCrCb2BGR)\n",
    "    compression_ratio = total_coeff / total_nonzero if total_nonzero else 1\n",
    "    compressed_size = int((img.size * 8) / compression_ratio)\n",
    "    return compressed_bgr, compressed_size"
   ]
  },
  {
   "cell_type": "code",
   "execution_count": 6,
   "id": "37669798-5f9d-4bf6-9015-1bbcaed9139b",
   "metadata": {},
   "outputs": [],
   "source": [
    "class Node:\n",
    "    def __init__(self, sym, freq):\n",
    "        self.sym = sym\n",
    "        self.freq = freq\n",
    "        self.left = None\n",
    "        self.right = None\n",
    "    def __lt__(self, other):\n",
    "        return self.freq < other.freq\n",
    "def huffman_tree(freqs):\n",
    "    heap = [Node(s, f) for s, f in freqs.items()]\n",
    "    heapq.heapify(heap)\n",
    "    while len(heap) > 1:\n",
    "        l, r = heapq.heappop(heap), heapq.heappop(heap)\n",
    "        new = Node(None, l.freq + r.freq)\n",
    "        new.left, new.right = l, r\n",
    "        heapq.heappush(heap, new)\n",
    "    return heap[0]\n",
    "def huffman_codes(node, prefix=\"\", codebook={}):\n",
    "    if node is None: return\n",
    "    if node.sym is not None: codebook[node.sym] = prefix\n",
    "    huffman_codes(node.left, prefix + \"0\", codebook)\n",
    "    huffman_codes(node.right, prefix + \"1\", codebook)\n",
    "    return codebook\n",
    "def huffman_compress(img):\n",
    "    flat = img.flatten().tolist()\n",
    "    freqs = Counter(flat)\n",
    "    tree = huffman_tree(freqs)\n",
    "    codes = huffman_codes(tree)\n",
    "    encoded = \"\".join([codes[v] for v in flat])\n",
    "    return len(encoded)  "
   ]
  },
  {
   "cell_type": "code",
   "execution_count": null,
   "id": "5c87e9f4-209c-4b4e-8e7a-3fc4f781b738",
   "metadata": {},
   "outputs": [],
   "source": [
    "for idx, img in enumerate(images[:6]):\n",
    "    original_rgb = cv2.cvtColor(img, cv2.COLOR_BGR2RGB)\n",
    "    ycbcr = cv2.cvtColor(img, cv2.COLOR_BGR2YCrCb)\n",
    "    ycbcr_rgb = cv2.cvtColor(ycbcr, cv2.COLOR_YCrCb2RGB)\n",
    "    dct_compressed_bgr, dct_size_bits = dct_compress_ycbcr(img)\n",
    "    dct_gray = cv2.cvtColor(dct_compressed_bgr, cv2.COLOR_BGR2GRAY)\n",
    "    gray = cv2.cvtColor(img, cv2.COLOR_BGR2GRAY)\n",
    "    huffman_size_bits = huffman_compress(gray)\n",
    "    plt.figure(figsize=(20, 5))\n",
    "    plt.subplot(1, 4, 1)\n",
    "    plt.imshow(original_rgb)\n",
    "    plt.title(\"Original RGB\")\n",
    "    plt.axis(\"off\")\n",
    "    plt.subplot(1, 4, 2)\n",
    "    plt.imshow(ycbcr_rgb)\n",
    "    plt.title(\"YCbCr\")\n",
    "    plt.axis(\"off\")\n",
    "    plt.subplot(1, 4, 3)\n",
    "    plt.imshow(dct_gray, cmap='gray')\n",
    "    plt.title(\"DCT Grayscale\")\n",
    "    plt.axis(\"off\")\n",
    "    plt.subplot(1, 4, 4)\n",
    "    plt.imshow(gray, cmap='gray')\n",
    "    plt.title(\"Huffman\")\n",
    "    plt.axis(\"off\")\n",
    "    plt.tight_layout()\n",
    "    plt.show()"
   ]
  },
  {
   "cell_type": "code",
   "execution_count": null,
   "id": "d92ba5b6-28cd-49f0-90fe-7435fd037ab3",
   "metadata": {},
   "outputs": [],
   "source": []
  }
 ],
 "metadata": {
  "kernelspec": {
   "display_name": "Python 3 (ipykernel)",
   "language": "python",
   "name": "python3"
  },
  "language_info": {
   "codemirror_mode": {
    "name": "ipython",
    "version": 3
   },
   "file_extension": ".py",
   "mimetype": "text/x-python",
   "name": "python",
   "nbconvert_exporter": "python",
   "pygments_lexer": "ipython3",
   "version": "3.13.5"
  }
 },
 "nbformat": 4,
 "nbformat_minor": 5
}

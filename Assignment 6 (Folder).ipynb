{
 "cells": [
  {
   "cell_type": "code",
   "execution_count": 2,
   "id": "a6a1b7ad-e3db-415f-b36b-43875b8377d9",
   "metadata": {},
   "outputs": [],
   "source": [
    "import numpy as np\n",
    "import os\n",
    "import matplotlib.pyplot as plt\n",
    "from scipy import fftpack\n",
    "from skimage import io, color, img_as_float\n",
    "from skimage.restoration import wiener\n",
    "from skimage.metrics import peak_signal_noise_ratio as psnr, structural_similarity as ssim"
   ]
  },
  {
   "cell_type": "code",
   "execution_count": 3,
   "id": "4e084790-f23f-4cb2-9892-f22f8c6ca5c9",
   "metadata": {},
   "outputs": [
    {
     "ename": "NameError",
     "evalue": "name 'os' is not defined",
     "output_type": "error",
     "traceback": [
      "\u001b[1;31m---------------------------------------------------------------------------\u001b[0m",
      "\u001b[1;31mNameError\u001b[0m                                 Traceback (most recent call last)",
      "Cell \u001b[1;32mIn[3], line 2\u001b[0m\n\u001b[0;32m      1\u001b[0m folder \u001b[38;5;241m=\u001b[39m \u001b[38;5;124mr\u001b[39m\u001b[38;5;124m\"\u001b[39m\u001b[38;5;124mC:\u001b[39m\u001b[38;5;124m\\\u001b[39m\u001b[38;5;124mUsers\u001b[39m\u001b[38;5;124m\\\u001b[39m\u001b[38;5;124madibh\u001b[39m\u001b[38;5;124m\\\u001b[39m\u001b[38;5;124mDownloads\u001b[39m\u001b[38;5;124m\\\u001b[39m\u001b[38;5;124marchive (4)\u001b[39m\u001b[38;5;124m\\\u001b[39m\u001b[38;5;124mData\u001b[39m\u001b[38;5;124m\\\u001b[39m\u001b[38;5;124mcats\u001b[39m\u001b[38;5;124m\"\u001b[39m\n\u001b[1;32m----> 2\u001b[0m \u001b[38;5;28;01mfor\u001b[39;00m idx, file \u001b[38;5;129;01min\u001b[39;00m \u001b[38;5;28menumerate\u001b[39m(os\u001b[38;5;241m.\u001b[39mlistdir(folder)):\n\u001b[0;32m      3\u001b[0m     \u001b[38;5;28;01mif\u001b[39;00m file\u001b[38;5;241m.\u001b[39mlower()\u001b[38;5;241m.\u001b[39mendswith((\u001b[38;5;124m'\u001b[39m\u001b[38;5;124m.png\u001b[39m\u001b[38;5;124m'\u001b[39m, \u001b[38;5;124m'\u001b[39m\u001b[38;5;124m.jpg\u001b[39m\u001b[38;5;124m'\u001b[39m, \u001b[38;5;124m'\u001b[39m\u001b[38;5;124m.jpeg\u001b[39m\u001b[38;5;124m'\u001b[39m, \u001b[38;5;124m'\u001b[39m\u001b[38;5;124m.bmp\u001b[39m\u001b[38;5;124m'\u001b[39m, \u001b[38;5;124m'\u001b[39m\u001b[38;5;124m.tif\u001b[39m\u001b[38;5;124m'\u001b[39m)):\n\u001b[0;32m      4\u001b[0m         \u001b[38;5;28;01mif\u001b[39;00m idx \u001b[38;5;241m>\u001b[39m\u001b[38;5;241m=\u001b[39m \u001b[38;5;241m5\u001b[39m:\n",
      "\u001b[1;31mNameError\u001b[0m: name 'os' is not defined"
     ]
    }
   ],
   "source": [
    "folder = r\"C:\\Users\\adibh\\Downloads\\archive (4)\\Data\\cats\"\n",
    "for idx, file in enumerate(os.listdir(folder)):\n",
    "    if file.lower().endswith(('.png', '.jpg', '.jpeg', '.bmp', '.tif')):\n",
    "        if idx >= 5:\n",
    "            break\n",
    "        path = os.path.join(folder, file)\n",
    "        img = img_as_float(io.imread(path))\n",
    "        if img.ndim == 3:\n",
    "            img = color.rgb2gray(img)\n",
    "        m, n = img.shape\n",
    "        sigma = 2.5\n",
    "        y, x = np.indices((m, n))\n",
    "        cy, cx = m // 2, n // 2\n",
    "        psf = np.exp(-((x - cx)**2 + (y - cy)**2) / (2.0 * sigma**2))\n",
    "        psf /= psf.sum()\n",
    "        IMG = fftpack.fft2(img)\n",
    "        PSF = fftpack.fft2(fftpack.ifftshift(psf))\n",
    "        blurred = np.real(fftpack.ifft2(IMG * PSF))\n",
    "        noise_sigma = 0.02\n",
    "        noisy = blurred + np.random.normal(scale=noise_sigma, size=blurred.shape)\n",
    "        noisy = np.clip(noisy, 0, 1)\n",
    "        eps = 1e-3\n",
    "        IMGn = fftpack.fft2(noisy)\n",
    "        rec_inv = np.real(fftpack.ifft2(IMGn / (PSF + eps)))\n",
    "        rec_inv = np.clip(rec_inv, 0, 1)\n",
    "        noise_var = noise_sigma**2\n",
    "        signal_var = np.var(img)\n",
    "        K = noise_var / (signal_var + 1e-12)\n",
    "        H_conj = np.conj(PSF)\n",
    "        H_abs2 = np.abs(PSF)**2\n",
    "        wiener_freq = (H_conj / (H_abs2 + K)) * IMGn\n",
    "        rec_wiener = np.real(fftpack.ifft2(wiener_freq))\n",
    "        rec_wiener = np.clip(rec_wiener, 0, 1)\n",
    "        fig, axes = plt.subplots(1, 4, figsize=(15, 5))\n",
    "        axes[0].imshow(img, cmap='gray'); axes[0].set_title(\"Original\"); axes[0].axis(\"off\")\n",
    "        axes[1].imshow(noisy, cmap='gray'); axes[1].set_title(\"Noisy\"); axes[1].axis(\"off\")\n",
    "        axes[2].imshow(rec_inv, cmap='gray'); axes[2].set_title(\"Inverse Filter\"); axes[2].axis(\"off\")\n",
    "        axes[3].imshow(rec_wiener, cmap='gray'); axes[3].set_title(\"Wiener Filter\"); axes[3].axis(\"off\")\n",
    "        plt.suptitle(file)\n",
    "        plt.show()"
   ]
  },
  {
   "cell_type": "code",
   "execution_count": null,
   "id": "42326213-0b62-420a-942e-f61f441ac864",
   "metadata": {},
   "outputs": [],
   "source": []
  }
 ],
 "metadata": {
  "kernelspec": {
   "display_name": "Python 3 (ipykernel)",
   "language": "python",
   "name": "python3"
  },
  "language_info": {
   "codemirror_mode": {
    "name": "ipython",
    "version": 3
   },
   "file_extension": ".py",
   "mimetype": "text/x-python",
   "name": "python",
   "nbconvert_exporter": "python",
   "pygments_lexer": "ipython3",
   "version": "3.13.5"
  }
 },
 "nbformat": 4,
 "nbformat_minor": 5
}
